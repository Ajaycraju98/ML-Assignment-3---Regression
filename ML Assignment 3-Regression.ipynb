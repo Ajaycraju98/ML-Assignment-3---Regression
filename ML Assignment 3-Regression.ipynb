{
 "cells": [
  {
   "cell_type": "markdown",
   "id": "d45dae52-f7ed-4378-8f46-b6d2a5b760ba",
   "metadata": {},
   "source": [
    "# Key Components to be Fulfilled:"
   ]
  },
  {
   "cell_type": "markdown",
   "id": "298e1808-1885-45fc-8eae-3b1da7cff6e9",
   "metadata": {},
   "source": [
    "# 1.Loading and Preprocessing :\n",
    "\n",
    "*Load the California Housing dataset using the fetch_california_housing function from sklearn.\n",
    "*Convert the dataset into a pandas DataFrame for easier handling.\n",
    "*Handle missing values (if any) and perform necessary feature scaling (e.g., standardization).\n",
    "*Explain the preprocessing steps you performed and justify why they are necessary for this dataset."
   ]
  },
  {
   "cell_type": "code",
   "execution_count": 223,
   "id": "e35ad271-7bdb-424f-b249-0b92ee58824d",
   "metadata": {},
   "outputs": [],
   "source": [
    "import warnings\n",
    "warnings.filterwarnings(\"ignore\")"
   ]
  },
  {
   "cell_type": "code",
   "execution_count": 227,
   "id": "6b69af29-6fb0-4a9e-9297-728829ba172c",
   "metadata": {},
   "outputs": [],
   "source": [
    "from sklearn.datasets import fetch_california_housing\n",
    "import pandas as pd\n",
    "from sklearn.model_selection import train_test_split\n",
    "from sklearn.preprocessing import StandardScaler\n",
    "from sklearn.linear_model import LinearRegression\n",
    "from sklearn.metrics import mean_squared_error, mean_absolute_error,r2_score\n",
    "from sklearn.tree import DecisionTreeRegressor\n",
    "from sklearn.feature_selection import SelectKBest, f_regression"
   ]
  },
  {
   "cell_type": "code",
   "execution_count": 229,
   "id": "5a6b3879-81f7-455d-9a84-78d5b65c83a1",
   "metadata": {},
   "outputs": [],
   "source": [
    "# Load the California housing dataset\n",
    "data = fetch_california_housing()"
   ]
  },
  {
   "cell_type": "code",
   "execution_count": 231,
   "id": "451134e1-dc6a-4cb3-b87a-683c72bfb801",
   "metadata": {},
   "outputs": [
    {
     "data": {
      "text/html": [
       "<div>\n",
       "<style scoped>\n",
       "    .dataframe tbody tr th:only-of-type {\n",
       "        vertical-align: middle;\n",
       "    }\n",
       "\n",
       "    .dataframe tbody tr th {\n",
       "        vertical-align: top;\n",
       "    }\n",
       "\n",
       "    .dataframe thead th {\n",
       "        text-align: right;\n",
       "    }\n",
       "</style>\n",
       "<table border=\"1\" class=\"dataframe\">\n",
       "  <thead>\n",
       "    <tr style=\"text-align: right;\">\n",
       "      <th></th>\n",
       "      <th>MedInc</th>\n",
       "      <th>HouseAge</th>\n",
       "      <th>AveRooms</th>\n",
       "      <th>AveBedrms</th>\n",
       "      <th>Population</th>\n",
       "      <th>AveOccup</th>\n",
       "      <th>Latitude</th>\n",
       "      <th>Longitude</th>\n",
       "      <th>Target</th>\n",
       "    </tr>\n",
       "  </thead>\n",
       "  <tbody>\n",
       "    <tr>\n",
       "      <th>0</th>\n",
       "      <td>8.3252</td>\n",
       "      <td>41.0</td>\n",
       "      <td>6.984127</td>\n",
       "      <td>1.023810</td>\n",
       "      <td>322.0</td>\n",
       "      <td>2.555556</td>\n",
       "      <td>37.88</td>\n",
       "      <td>-122.23</td>\n",
       "      <td>4.526</td>\n",
       "    </tr>\n",
       "    <tr>\n",
       "      <th>1</th>\n",
       "      <td>8.3014</td>\n",
       "      <td>21.0</td>\n",
       "      <td>6.238137</td>\n",
       "      <td>0.971880</td>\n",
       "      <td>2401.0</td>\n",
       "      <td>2.109842</td>\n",
       "      <td>37.86</td>\n",
       "      <td>-122.22</td>\n",
       "      <td>3.585</td>\n",
       "    </tr>\n",
       "    <tr>\n",
       "      <th>2</th>\n",
       "      <td>7.2574</td>\n",
       "      <td>52.0</td>\n",
       "      <td>8.288136</td>\n",
       "      <td>1.073446</td>\n",
       "      <td>496.0</td>\n",
       "      <td>2.802260</td>\n",
       "      <td>37.85</td>\n",
       "      <td>-122.24</td>\n",
       "      <td>3.521</td>\n",
       "    </tr>\n",
       "    <tr>\n",
       "      <th>3</th>\n",
       "      <td>5.6431</td>\n",
       "      <td>52.0</td>\n",
       "      <td>5.817352</td>\n",
       "      <td>1.073059</td>\n",
       "      <td>558.0</td>\n",
       "      <td>2.547945</td>\n",
       "      <td>37.85</td>\n",
       "      <td>-122.25</td>\n",
       "      <td>3.413</td>\n",
       "    </tr>\n",
       "    <tr>\n",
       "      <th>4</th>\n",
       "      <td>3.8462</td>\n",
       "      <td>52.0</td>\n",
       "      <td>6.281853</td>\n",
       "      <td>1.081081</td>\n",
       "      <td>565.0</td>\n",
       "      <td>2.181467</td>\n",
       "      <td>37.85</td>\n",
       "      <td>-122.25</td>\n",
       "      <td>3.422</td>\n",
       "    </tr>\n",
       "    <tr>\n",
       "      <th>...</th>\n",
       "      <td>...</td>\n",
       "      <td>...</td>\n",
       "      <td>...</td>\n",
       "      <td>...</td>\n",
       "      <td>...</td>\n",
       "      <td>...</td>\n",
       "      <td>...</td>\n",
       "      <td>...</td>\n",
       "      <td>...</td>\n",
       "    </tr>\n",
       "    <tr>\n",
       "      <th>20635</th>\n",
       "      <td>1.5603</td>\n",
       "      <td>25.0</td>\n",
       "      <td>5.045455</td>\n",
       "      <td>1.133333</td>\n",
       "      <td>845.0</td>\n",
       "      <td>2.560606</td>\n",
       "      <td>39.48</td>\n",
       "      <td>-121.09</td>\n",
       "      <td>0.781</td>\n",
       "    </tr>\n",
       "    <tr>\n",
       "      <th>20636</th>\n",
       "      <td>2.5568</td>\n",
       "      <td>18.0</td>\n",
       "      <td>6.114035</td>\n",
       "      <td>1.315789</td>\n",
       "      <td>356.0</td>\n",
       "      <td>3.122807</td>\n",
       "      <td>39.49</td>\n",
       "      <td>-121.21</td>\n",
       "      <td>0.771</td>\n",
       "    </tr>\n",
       "    <tr>\n",
       "      <th>20637</th>\n",
       "      <td>1.7000</td>\n",
       "      <td>17.0</td>\n",
       "      <td>5.205543</td>\n",
       "      <td>1.120092</td>\n",
       "      <td>1007.0</td>\n",
       "      <td>2.325635</td>\n",
       "      <td>39.43</td>\n",
       "      <td>-121.22</td>\n",
       "      <td>0.923</td>\n",
       "    </tr>\n",
       "    <tr>\n",
       "      <th>20638</th>\n",
       "      <td>1.8672</td>\n",
       "      <td>18.0</td>\n",
       "      <td>5.329513</td>\n",
       "      <td>1.171920</td>\n",
       "      <td>741.0</td>\n",
       "      <td>2.123209</td>\n",
       "      <td>39.43</td>\n",
       "      <td>-121.32</td>\n",
       "      <td>0.847</td>\n",
       "    </tr>\n",
       "    <tr>\n",
       "      <th>20639</th>\n",
       "      <td>2.3886</td>\n",
       "      <td>16.0</td>\n",
       "      <td>5.254717</td>\n",
       "      <td>1.162264</td>\n",
       "      <td>1387.0</td>\n",
       "      <td>2.616981</td>\n",
       "      <td>39.37</td>\n",
       "      <td>-121.24</td>\n",
       "      <td>0.894</td>\n",
       "    </tr>\n",
       "  </tbody>\n",
       "</table>\n",
       "<p>20640 rows × 9 columns</p>\n",
       "</div>"
      ],
      "text/plain": [
       "       MedInc  HouseAge  AveRooms  AveBedrms  Population  AveOccup  Latitude  \\\n",
       "0      8.3252      41.0  6.984127   1.023810       322.0  2.555556     37.88   \n",
       "1      8.3014      21.0  6.238137   0.971880      2401.0  2.109842     37.86   \n",
       "2      7.2574      52.0  8.288136   1.073446       496.0  2.802260     37.85   \n",
       "3      5.6431      52.0  5.817352   1.073059       558.0  2.547945     37.85   \n",
       "4      3.8462      52.0  6.281853   1.081081       565.0  2.181467     37.85   \n",
       "...       ...       ...       ...        ...         ...       ...       ...   \n",
       "20635  1.5603      25.0  5.045455   1.133333       845.0  2.560606     39.48   \n",
       "20636  2.5568      18.0  6.114035   1.315789       356.0  3.122807     39.49   \n",
       "20637  1.7000      17.0  5.205543   1.120092      1007.0  2.325635     39.43   \n",
       "20638  1.8672      18.0  5.329513   1.171920       741.0  2.123209     39.43   \n",
       "20639  2.3886      16.0  5.254717   1.162264      1387.0  2.616981     39.37   \n",
       "\n",
       "       Longitude  Target  \n",
       "0        -122.23   4.526  \n",
       "1        -122.22   3.585  \n",
       "2        -122.24   3.521  \n",
       "3        -122.25   3.413  \n",
       "4        -122.25   3.422  \n",
       "...          ...     ...  \n",
       "20635    -121.09   0.781  \n",
       "20636    -121.21   0.771  \n",
       "20637    -121.22   0.923  \n",
       "20638    -121.32   0.847  \n",
       "20639    -121.24   0.894  \n",
       "\n",
       "[20640 rows x 9 columns]"
      ]
     },
     "execution_count": 231,
     "metadata": {},
     "output_type": "execute_result"
    }
   ],
   "source": [
    "# Convert to Pandas DataFrame\n",
    "#The dataset was converted to a DataFrame for easier handling and manipulation.\n",
    "df = pd.DataFrame(data.data, columns=data.feature_names)\n",
    "df['Target'] = data.target\n",
    "df"
   ]
  },
  {
   "cell_type": "code",
   "execution_count": 233,
   "id": "09896e40-3784-4819-a7d3-4e88482b912c",
   "metadata": {},
   "outputs": [
    {
     "name": "stdout",
     "output_type": "stream",
     "text": [
      "Missing values in each colum:\n",
      " MedInc        0\n",
      "HouseAge      0\n",
      "AveRooms      0\n",
      "AveBedrms     0\n",
      "Population    0\n",
      "AveOccup      0\n",
      "Latitude      0\n",
      "Longitude     0\n",
      "Target        0\n",
      "dtype: int64\n"
     ]
    }
   ],
   "source": [
    "# Check for missing values\n",
    "missing_values = df.isnull().sum()\n",
    "print(\"Missing values in each colum:\\n\", missing_values)"
   ]
  },
  {
   "cell_type": "markdown",
   "id": "4d7ed44b-e118-4fcf-b7bb-a0a494ef33a1",
   "metadata": {},
   "source": [
    "#No missing values were found, so no imputation was required. \n",
    "#If missing values existed, we could have used methods like mean/mode imputation or dropped them based on severity."
   ]
  },
  {
   "cell_type": "code",
   "execution_count": 235,
   "id": "fcdc4f0b-f5a9-422e-a61b-566986fc03ff",
   "metadata": {},
   "outputs": [
    {
     "data": {
      "text/plain": [
       "0"
      ]
     },
     "execution_count": 235,
     "metadata": {},
     "output_type": "execute_result"
    }
   ],
   "source": [
    "df.duplicated().sum()"
   ]
  },
  {
   "cell_type": "markdown",
   "id": "d6df1999-e728-49b3-939f-401cd0013868",
   "metadata": {},
   "source": [
    "# In the dataset,there is no duplicate values"
   ]
  },
  {
   "cell_type": "code",
   "execution_count": 237,
   "id": "1d6c8ede-a62b-494b-8ac1-feb82f5c97c5",
   "metadata": {},
   "outputs": [
    {
     "name": "stdout",
     "output_type": "stream",
     "text": [
      "Categorical Columns: []\n",
      "Numerical Columns: ['MedInc', 'HouseAge', 'AveRooms', 'AveBedrms', 'Population', 'AveOccup', 'Latitude', 'Longitude', 'Target']\n"
     ]
    }
   ],
   "source": [
    "# Differentiating Columns\n",
    "#To understand the categorical column and numerical columns \n",
    "categorical_columns = df.select_dtypes(include=['object', 'category']).columns.tolist()\n",
    "numerical_columns = df.select_dtypes(include=['int64', 'float64']).columns.tolist()\n",
    "\n",
    "# Print Results\n",
    "print(\"Categorical Columns:\", categorical_columns)\n",
    "print(\"Numerical Columns:\", numerical_columns)"
   ]
  },
  {
   "cell_type": "markdown",
   "id": "3eba770d-9533-44ea-8ae0-2929467258e2",
   "metadata": {},
   "source": [
    "# In the dataset,there is no categorical column.so need not implementing Encoding categorical data"
   ]
  },
  {
   "cell_type": "code",
   "execution_count": 239,
   "id": "4f094f7e-6601-4a59-97a2-bee793c377e1",
   "metadata": {},
   "outputs": [
    {
     "name": "stdout",
     "output_type": "stream",
     "text": [
      "Target        1.000000\n",
      "MedInc        0.688075\n",
      "AveRooms      0.151948\n",
      "HouseAge      0.105623\n",
      "AveOccup     -0.023737\n",
      "Population   -0.024650\n",
      "Longitude    -0.045967\n",
      "AveBedrms    -0.046701\n",
      "Latitude     -0.144160\n",
      "Name: Target, dtype: float64\n"
     ]
    }
   ],
   "source": [
    "# Correlation with target variable\n",
    "#To understand the correlation of columns with respect to Target column \n",
    "print(df.corr()['Target'].sort_values(ascending=False))"
   ]
  },
  {
   "cell_type": "code",
   "execution_count": 241,
   "id": "f10fb8cc-d120-429d-bd39-f4c5107ba445",
   "metadata": {},
   "outputs": [
    {
     "name": "stdout",
     "output_type": "stream",
     "text": [
      "Selected Features: Index(['MedInc', 'HouseAge', 'Population', 'Latitude'], dtype='object')\n",
      "Feature Scores based on select_k: [6.80719001 1.11517788 1.19632039 1.25951125]\n",
      "Selected Features:\n",
      "       Feature     Score\n",
      "0      MedInc  6.807190\n",
      "3    Latitude  1.259511\n",
      "2  Population  1.196320\n",
      "1    HouseAge  1.115178\n"
     ]
    }
   ],
   "source": [
    "#To find the best features from the dataset using Kbest feture selection\n",
    "from sklearn.feature_selection import SelectKBest, f_classif\n",
    "# SelectKBest for feature selection\n",
    "X = df.drop(columns=['Target'])  # Features\n",
    "y = df['Target']  # Target\n",
    "\n",
    "select_k = SelectKBest(score_func=f_classif, k=4)  # Selecting Top 1 feature, depends on the person\n",
    "X_selected = select_k.fit_transform(X, y)\n",
    "\n",
    "# Get the names and scores of the selected features\n",
    "selected_features = X.columns[select_k.get_support()]\n",
    "selected_scores = select_k.scores_[select_k.get_support()] # to find scores of all features\n",
    "\n",
    "print(\"Selected Features:\", selected_features)\n",
    "print(\"Feature Scores based on select_k:\", selected_scores)\n",
    "\n",
    "\n",
    "# Create a DataFrame to display feature names and scores\n",
    "feature_scores_df = pd.DataFrame({'Feature': selected_features, 'Score': selected_scores})\n",
    "\n",
    "\n",
    "# Sort by scores in ascending order\n",
    "feature_scores_df = feature_scores_df.sort_values(by=\"Score\", ascending=False)\n",
    "\n",
    "# Print results\n",
    "print(\"Selected Features:\\n\", feature_scores_df)"
   ]
  },
  {
   "cell_type": "code",
   "execution_count": 243,
   "id": "aa649dc8-0e34-4e4f-a1ec-92fb53d074f9",
   "metadata": {},
   "outputs": [
    {
     "name": "stdout",
     "output_type": "stream",
     "text": [
      "\n",
      "Training Data (Features):\n",
      "       MedInc  HouseAge  AveRooms  AveBedrms  Population  AveOccup  Latitude  \\\n",
      "14196  3.2596      33.0  5.017657   1.006421      2300.0  3.691814     32.71   \n",
      "8267   3.8125      49.0  4.473545   1.041005      1314.0  1.738095     33.77   \n",
      "17445  4.1563       4.0  5.645833   0.985119       915.0  2.723214     34.66   \n",
      "14265  1.9425      36.0  4.002817   1.033803      1418.0  3.994366     32.69   \n",
      "2271   3.5542      43.0  6.268421   1.134211       874.0  2.300000     36.78   \n",
      "...       ...       ...       ...        ...         ...       ...       ...   \n",
      "11284  6.3700      35.0  6.129032   0.926267       658.0  3.032258     33.78   \n",
      "11964  3.0500      33.0  6.868597   1.269488      1753.0  3.904232     34.02   \n",
      "5390   2.9344      36.0  3.986717   1.079696      1756.0  3.332068     34.03   \n",
      "860    5.7192      15.0  6.395349   1.067979      1777.0  3.178891     37.58   \n",
      "15795  2.5755      52.0  3.402576   1.058776      2619.0  2.108696     37.77   \n",
      "\n",
      "       Longitude  \n",
      "14196    -117.03  \n",
      "8267     -118.16  \n",
      "17445    -120.48  \n",
      "14265    -117.11  \n",
      "2271     -119.80  \n",
      "...          ...  \n",
      "11284    -117.96  \n",
      "11964    -117.43  \n",
      "5390     -118.38  \n",
      "860      -121.96  \n",
      "15795    -122.42  \n",
      "\n",
      "[16512 rows x 8 columns]\n",
      "\n",
      "Testing Data (Features):\n",
      "       MedInc  HouseAge  AveRooms  AveBedrms  Population  AveOccup  Latitude  \\\n",
      "20046  1.6812      25.0  4.192201   1.022284      1392.0  3.877437     36.06   \n",
      "3024   2.5313      30.0  5.039384   1.193493      1565.0  2.679795     35.14   \n",
      "15663  3.4801      52.0  3.977155   1.185877      1310.0  1.360332     37.80   \n",
      "20484  5.7376      17.0  6.163636   1.020202      1705.0  3.444444     34.28   \n",
      "9814   3.7250      34.0  5.492991   1.028037      1063.0  2.483645     36.62   \n",
      "...       ...       ...       ...        ...         ...       ...       ...   \n",
      "15362  4.6050      16.0  7.002212   1.066372      1351.0  2.988938     33.36   \n",
      "16623  2.7266      28.0  6.131915   1.256738      1650.0  2.340426     35.36   \n",
      "18086  9.2298      25.0  7.237676   0.947183      1585.0  2.790493     37.31   \n",
      "2144   2.7850      36.0  5.289030   0.983122      1227.0  2.588608     36.77   \n",
      "3665   3.5521      17.0  3.988839   1.033482      1671.0  3.729911     34.22   \n",
      "\n",
      "       Longitude  \n",
      "20046    -119.01  \n",
      "3024     -119.46  \n",
      "15663    -122.44  \n",
      "20484    -118.72  \n",
      "9814     -121.93  \n",
      "...          ...  \n",
      "15362    -117.22  \n",
      "16623    -120.83  \n",
      "18086    -122.05  \n",
      "2144     -119.76  \n",
      "3665     -118.37  \n",
      "\n",
      "[4128 rows x 8 columns]\n"
     ]
    }
   ],
   "source": [
    "# Splitting the dataset into training and testing sets\n",
    "X_train, X_test, y_train, y_test = train_test_split(X, y, test_size=0.2, random_state=42)\n",
    "\n",
    "print(\"\\nTraining Data (Features):\")\n",
    "print(X_train)\n",
    "print(\"\\nTesting Data (Features):\")\n",
    "print(X_test)\n",
    "\n",
    "#This step is crucial to evaluate the model’s performance on unseen data and prevent overfitting."
   ]
  },
  {
   "cell_type": "code",
   "execution_count": 245,
   "id": "38e60f98-6900-4971-ab89-a0fe74e6dd87",
   "metadata": {},
   "outputs": [
    {
     "data": {
      "text/plain": [
       "(16512, 8)"
      ]
     },
     "execution_count": 245,
     "metadata": {},
     "output_type": "execute_result"
    }
   ],
   "source": [
    "X_train\n",
    "X_train.shape"
   ]
  },
  {
   "cell_type": "code",
   "execution_count": 247,
   "id": "8ddf9183-028f-4b2f-9475-c255a6ab8d4e",
   "metadata": {},
   "outputs": [
    {
     "data": {
      "text/plain": [
       "14196    1.030\n",
       "8267     3.821\n",
       "17445    1.726\n",
       "14265    0.934\n",
       "2271     0.965\n",
       "         ...  \n",
       "11284    2.292\n",
       "11964    0.978\n",
       "5390     2.221\n",
       "860      2.835\n",
       "15795    3.250\n",
       "Name: Target, Length: 16512, dtype: float64"
      ]
     },
     "execution_count": 247,
     "metadata": {},
     "output_type": "execute_result"
    }
   ],
   "source": [
    "y_train"
   ]
  },
  {
   "cell_type": "code",
   "execution_count": 249,
   "id": "03a1d689-d004-4e1d-8b6f-f6c6f987fc15",
   "metadata": {},
   "outputs": [
    {
     "data": {
      "text/html": [
       "<div>\n",
       "<style scoped>\n",
       "    .dataframe tbody tr th:only-of-type {\n",
       "        vertical-align: middle;\n",
       "    }\n",
       "\n",
       "    .dataframe tbody tr th {\n",
       "        vertical-align: top;\n",
       "    }\n",
       "\n",
       "    .dataframe thead th {\n",
       "        text-align: right;\n",
       "    }\n",
       "</style>\n",
       "<table border=\"1\" class=\"dataframe\">\n",
       "  <thead>\n",
       "    <tr style=\"text-align: right;\">\n",
       "      <th></th>\n",
       "      <th>MedInc</th>\n",
       "      <th>HouseAge</th>\n",
       "      <th>AveRooms</th>\n",
       "      <th>AveBedrms</th>\n",
       "      <th>Population</th>\n",
       "      <th>AveOccup</th>\n",
       "      <th>Latitude</th>\n",
       "      <th>Longitude</th>\n",
       "    </tr>\n",
       "  </thead>\n",
       "  <tbody>\n",
       "    <tr>\n",
       "      <th>20046</th>\n",
       "      <td>1.6812</td>\n",
       "      <td>25.0</td>\n",
       "      <td>4.192201</td>\n",
       "      <td>1.022284</td>\n",
       "      <td>1392.0</td>\n",
       "      <td>3.877437</td>\n",
       "      <td>36.06</td>\n",
       "      <td>-119.01</td>\n",
       "    </tr>\n",
       "    <tr>\n",
       "      <th>3024</th>\n",
       "      <td>2.5313</td>\n",
       "      <td>30.0</td>\n",
       "      <td>5.039384</td>\n",
       "      <td>1.193493</td>\n",
       "      <td>1565.0</td>\n",
       "      <td>2.679795</td>\n",
       "      <td>35.14</td>\n",
       "      <td>-119.46</td>\n",
       "    </tr>\n",
       "    <tr>\n",
       "      <th>15663</th>\n",
       "      <td>3.4801</td>\n",
       "      <td>52.0</td>\n",
       "      <td>3.977155</td>\n",
       "      <td>1.185877</td>\n",
       "      <td>1310.0</td>\n",
       "      <td>1.360332</td>\n",
       "      <td>37.80</td>\n",
       "      <td>-122.44</td>\n",
       "    </tr>\n",
       "    <tr>\n",
       "      <th>20484</th>\n",
       "      <td>5.7376</td>\n",
       "      <td>17.0</td>\n",
       "      <td>6.163636</td>\n",
       "      <td>1.020202</td>\n",
       "      <td>1705.0</td>\n",
       "      <td>3.444444</td>\n",
       "      <td>34.28</td>\n",
       "      <td>-118.72</td>\n",
       "    </tr>\n",
       "    <tr>\n",
       "      <th>9814</th>\n",
       "      <td>3.7250</td>\n",
       "      <td>34.0</td>\n",
       "      <td>5.492991</td>\n",
       "      <td>1.028037</td>\n",
       "      <td>1063.0</td>\n",
       "      <td>2.483645</td>\n",
       "      <td>36.62</td>\n",
       "      <td>-121.93</td>\n",
       "    </tr>\n",
       "    <tr>\n",
       "      <th>...</th>\n",
       "      <td>...</td>\n",
       "      <td>...</td>\n",
       "      <td>...</td>\n",
       "      <td>...</td>\n",
       "      <td>...</td>\n",
       "      <td>...</td>\n",
       "      <td>...</td>\n",
       "      <td>...</td>\n",
       "    </tr>\n",
       "    <tr>\n",
       "      <th>15362</th>\n",
       "      <td>4.6050</td>\n",
       "      <td>16.0</td>\n",
       "      <td>7.002212</td>\n",
       "      <td>1.066372</td>\n",
       "      <td>1351.0</td>\n",
       "      <td>2.988938</td>\n",
       "      <td>33.36</td>\n",
       "      <td>-117.22</td>\n",
       "    </tr>\n",
       "    <tr>\n",
       "      <th>16623</th>\n",
       "      <td>2.7266</td>\n",
       "      <td>28.0</td>\n",
       "      <td>6.131915</td>\n",
       "      <td>1.256738</td>\n",
       "      <td>1650.0</td>\n",
       "      <td>2.340426</td>\n",
       "      <td>35.36</td>\n",
       "      <td>-120.83</td>\n",
       "    </tr>\n",
       "    <tr>\n",
       "      <th>18086</th>\n",
       "      <td>9.2298</td>\n",
       "      <td>25.0</td>\n",
       "      <td>7.237676</td>\n",
       "      <td>0.947183</td>\n",
       "      <td>1585.0</td>\n",
       "      <td>2.790493</td>\n",
       "      <td>37.31</td>\n",
       "      <td>-122.05</td>\n",
       "    </tr>\n",
       "    <tr>\n",
       "      <th>2144</th>\n",
       "      <td>2.7850</td>\n",
       "      <td>36.0</td>\n",
       "      <td>5.289030</td>\n",
       "      <td>0.983122</td>\n",
       "      <td>1227.0</td>\n",
       "      <td>2.588608</td>\n",
       "      <td>36.77</td>\n",
       "      <td>-119.76</td>\n",
       "    </tr>\n",
       "    <tr>\n",
       "      <th>3665</th>\n",
       "      <td>3.5521</td>\n",
       "      <td>17.0</td>\n",
       "      <td>3.988839</td>\n",
       "      <td>1.033482</td>\n",
       "      <td>1671.0</td>\n",
       "      <td>3.729911</td>\n",
       "      <td>34.22</td>\n",
       "      <td>-118.37</td>\n",
       "    </tr>\n",
       "  </tbody>\n",
       "</table>\n",
       "<p>4128 rows × 8 columns</p>\n",
       "</div>"
      ],
      "text/plain": [
       "       MedInc  HouseAge  AveRooms  AveBedrms  Population  AveOccup  Latitude  \\\n",
       "20046  1.6812      25.0  4.192201   1.022284      1392.0  3.877437     36.06   \n",
       "3024   2.5313      30.0  5.039384   1.193493      1565.0  2.679795     35.14   \n",
       "15663  3.4801      52.0  3.977155   1.185877      1310.0  1.360332     37.80   \n",
       "20484  5.7376      17.0  6.163636   1.020202      1705.0  3.444444     34.28   \n",
       "9814   3.7250      34.0  5.492991   1.028037      1063.0  2.483645     36.62   \n",
       "...       ...       ...       ...        ...         ...       ...       ...   \n",
       "15362  4.6050      16.0  7.002212   1.066372      1351.0  2.988938     33.36   \n",
       "16623  2.7266      28.0  6.131915   1.256738      1650.0  2.340426     35.36   \n",
       "18086  9.2298      25.0  7.237676   0.947183      1585.0  2.790493     37.31   \n",
       "2144   2.7850      36.0  5.289030   0.983122      1227.0  2.588608     36.77   \n",
       "3665   3.5521      17.0  3.988839   1.033482      1671.0  3.729911     34.22   \n",
       "\n",
       "       Longitude  \n",
       "20046    -119.01  \n",
       "3024     -119.46  \n",
       "15663    -122.44  \n",
       "20484    -118.72  \n",
       "9814     -121.93  \n",
       "...          ...  \n",
       "15362    -117.22  \n",
       "16623    -120.83  \n",
       "18086    -122.05  \n",
       "2144     -119.76  \n",
       "3665     -118.37  \n",
       "\n",
       "[4128 rows x 8 columns]"
      ]
     },
     "execution_count": 249,
     "metadata": {},
     "output_type": "execute_result"
    }
   ],
   "source": [
    "X_test"
   ]
  },
  {
   "cell_type": "code",
   "execution_count": 251,
   "id": "c0544aee-c843-4f0f-a4cd-9a9dee8bbc98",
   "metadata": {},
   "outputs": [
    {
     "data": {
      "text/plain": [
       "20046    0.47700\n",
       "3024     0.45800\n",
       "15663    5.00001\n",
       "20484    2.18600\n",
       "9814     2.78000\n",
       "          ...   \n",
       "15362    2.63300\n",
       "16623    2.66800\n",
       "18086    5.00001\n",
       "2144     0.72300\n",
       "3665     1.51500\n",
       "Name: Target, Length: 4128, dtype: float64"
      ]
     },
     "execution_count": 251,
     "metadata": {},
     "output_type": "execute_result"
    }
   ],
   "source": [
    "y_test"
   ]
  },
  {
   "cell_type": "code",
   "execution_count": 253,
   "id": "b18ec6fc-80fc-4398-a4b3-fec75ca86e05",
   "metadata": {},
   "outputs": [
    {
     "name": "stdout",
     "output_type": "stream",
     "text": [
      "   MedInc  HouseAge  AveRooms  AveBedrms  Population  AveOccup  Latitude  \\\n",
      "0  8.3252      41.0  6.984127   1.023810       322.0  2.555556     37.88   \n",
      "1  8.3014      21.0  6.238137   0.971880      2401.0  2.109842     37.86   \n",
      "2  7.2574      52.0  8.288136   1.073446       496.0  2.802260     37.85   \n",
      "3  5.6431      52.0  5.817352   1.073059       558.0  2.547945     37.85   \n",
      "4  3.8462      52.0  6.281853   1.081081       565.0  2.181467     37.85   \n",
      "\n",
      "   Longitude  Target  \n",
      "0    -122.23   4.526  \n",
      "1    -122.22   3.585  \n",
      "2    -122.24   3.521  \n",
      "3    -122.25   3.413  \n",
      "4    -122.25   3.422  \n"
     ]
    }
   ],
   "source": [
    "# Display the first few rows of the scaled DataFrame\n",
    "print(df.head())"
   ]
  },
  {
   "cell_type": "markdown",
   "id": "dc65fd3e-7b6c-4efc-9aff-64de1c437a8c",
   "metadata": {},
   "source": [
    "# Feature Scaling"
   ]
  },
  {
   "cell_type": "code",
   "execution_count": 255,
   "id": "6cc76f64-2dbc-45cd-8789-baec66b022a7",
   "metadata": {},
   "outputs": [],
   "source": [
    "#Standardization ensures all features have a mean of 0 and a standard deviation of 1, making them comparable.\n",
    "# Scaling using StandardScaler\n",
    "from sklearn.preprocessing import StandardScaler\n",
    "\n",
    "scaler = StandardScaler()\n",
    "scaler.fit(X_train)\n",
    "X_train_scaled = scaler.transform(X_train)"
   ]
  },
  {
   "cell_type": "code",
   "execution_count": 257,
   "id": "9c9c5861-04a8-4032-b94c-fcd33310ab71",
   "metadata": {},
   "outputs": [
    {
     "data": {
      "text/plain": [
       "array([[-0.326196  ,  0.34849025, -0.17491646, ...,  0.05137609,\n",
       "        -1.3728112 ,  1.27258656],\n",
       "       [-0.03584338,  1.61811813, -0.40283542, ..., -0.11736222,\n",
       "        -0.87669601,  0.70916212],\n",
       "       [ 0.14470145, -1.95271028,  0.08821601, ..., -0.03227969,\n",
       "        -0.46014647, -0.44760309],\n",
       "       ...,\n",
       "       [-0.49697313,  0.58654547, -0.60675918, ...,  0.02030568,\n",
       "        -0.75500738,  0.59946887],\n",
       "       [ 0.96545045, -1.07984112,  0.40217517, ...,  0.00707608,\n",
       "         0.90651045, -1.18553953],\n",
       "       [-0.68544764,  1.85617335, -0.85144571, ..., -0.08535429,\n",
       "         0.99543676, -1.41489815]])"
      ]
     },
     "execution_count": 257,
     "metadata": {},
     "output_type": "execute_result"
    }
   ],
   "source": [
    "X_train_scaled"
   ]
  },
  {
   "cell_type": "code",
   "execution_count": 259,
   "id": "c5a539c9-f21b-4365-8da4-4d1e9fb87d0b",
   "metadata": {},
   "outputs": [
    {
     "name": "stdout",
     "output_type": "stream",
     "text": [
      "8\n"
     ]
    },
    {
     "data": {
      "text/plain": [
       "(16512, 8)"
      ]
     },
     "execution_count": 259,
     "metadata": {},
     "output_type": "execute_result"
    }
   ],
   "source": [
    "print(len(X_train_scaled[0]))\n",
    "X_train_scaled.shape\n",
    "X_train.shape"
   ]
  },
  {
   "cell_type": "code",
   "execution_count": 261,
   "id": "44626d85-22b9-4945-bb73-23fb23420809",
   "metadata": {},
   "outputs": [],
   "source": [
    "from sklearn.preprocessing import StandardScaler\n",
    "\n",
    "y_train_df = pd.DataFrame(y_train) #converting to data frame from series\n",
    "scaler = StandardScaler()\n",
    "scaler.fit(y_train_df)\n",
    "y_train_scaled = scaler.transform(y_train_df)"
   ]
  },
  {
   "cell_type": "code",
   "execution_count": 263,
   "id": "5e47f874-147b-4ef2-8f97-fd67e5228ee4",
   "metadata": {},
   "outputs": [
    {
     "data": {
      "text/plain": [
       "array([[-0.90118909],\n",
       "       [ 1.5127714 ],\n",
       "       [-0.29921255],\n",
       "       ...,\n",
       "       [ 0.12891731],\n",
       "       [ 0.65997132],\n",
       "       [ 1.01890847]])"
      ]
     },
     "execution_count": 263,
     "metadata": {},
     "output_type": "execute_result"
    }
   ],
   "source": [
    "y_train_scaled"
   ]
  },
  {
   "cell_type": "code",
   "execution_count": 265,
   "id": "708e2968-d8c7-4eda-a8a3-742b1a6f8fcf",
   "metadata": {},
   "outputs": [
    {
     "data": {
      "text/plain": [
       "20046    0.47700\n",
       "3024     0.45800\n",
       "15663    5.00001\n",
       "20484    2.18600\n",
       "9814     2.78000\n",
       "          ...   \n",
       "15362    2.63300\n",
       "16623    2.66800\n",
       "18086    5.00001\n",
       "2144     0.72300\n",
       "3665     1.51500\n",
       "Name: Target, Length: 4128, dtype: float64"
      ]
     },
     "execution_count": 265,
     "metadata": {},
     "output_type": "execute_result"
    }
   ],
   "source": [
    "y_test"
   ]
  },
  {
   "cell_type": "markdown",
   "id": "3f394e64-7dbe-452b-9bab-15752f6bc042",
   "metadata": {},
   "source": [
    "# 2.Regression Algorithm Implementation :\n",
    "Implement the following regression algorithms:\n",
    "\n",
    "Linear Regression\n",
    "Decision Tree Regressor\n",
    "Random Forest Regressor\n",
    "Gradient Boosting Regressor\n",
    "Support Vector Regressor (SVR)\n",
    "For each algorithm:\n",
    "Provide a brief explanation of how it works.\n",
    "Explain why it might be suitable for this dataset."
   ]
  },
  {
   "cell_type": "markdown",
   "id": "d4ffe0a2-607b-47b5-ad11-d93e6fcd3c8e",
   "metadata": {},
   "source": [
    "# Linear regression"
   ]
  },
  {
   "cell_type": "markdown",
   "id": "97fa62df-d207-4af2-9678-2656f046a8d1",
   "metadata": {},
   "source": [
    "Linear Regression models the relationship between independent variables (features) and the dependent variable (Target) using a linear equation\n",
    "In the dataset,relationship between features and the target is approximately linear, Linear Regression can perform well."
   ]
  },
  {
   "cell_type": "markdown",
   "id": "03ada08c-1ab9-40c0-b1ab-073f10b36990",
   "metadata": {},
   "source": [
    "# Model training using Linear regression"
   ]
  },
  {
   "cell_type": "code",
   "execution_count": 267,
   "id": "5fb7cb28-b9f0-4bd2-9dc4-a82c851ac8ea",
   "metadata": {},
   "outputs": [],
   "source": [
    "model = LinearRegression()"
   ]
  },
  {
   "cell_type": "code",
   "execution_count": 269,
   "id": "b99085c0-b803-49ce-ba56-ec6824bda53b",
   "metadata": {},
   "outputs": [
    {
     "data": {
      "text/html": [
       "<style>#sk-container-id-3 {\n",
       "  /* Definition of color scheme common for light and dark mode */\n",
       "  --sklearn-color-text: black;\n",
       "  --sklearn-color-line: gray;\n",
       "  /* Definition of color scheme for unfitted estimators */\n",
       "  --sklearn-color-unfitted-level-0: #fff5e6;\n",
       "  --sklearn-color-unfitted-level-1: #f6e4d2;\n",
       "  --sklearn-color-unfitted-level-2: #ffe0b3;\n",
       "  --sklearn-color-unfitted-level-3: chocolate;\n",
       "  /* Definition of color scheme for fitted estimators */\n",
       "  --sklearn-color-fitted-level-0: #f0f8ff;\n",
       "  --sklearn-color-fitted-level-1: #d4ebff;\n",
       "  --sklearn-color-fitted-level-2: #b3dbfd;\n",
       "  --sklearn-color-fitted-level-3: cornflowerblue;\n",
       "\n",
       "  /* Specific color for light theme */\n",
       "  --sklearn-color-text-on-default-background: var(--sg-text-color, var(--theme-code-foreground, var(--jp-content-font-color1, black)));\n",
       "  --sklearn-color-background: var(--sg-background-color, var(--theme-background, var(--jp-layout-color0, white)));\n",
       "  --sklearn-color-border-box: var(--sg-text-color, var(--theme-code-foreground, var(--jp-content-font-color1, black)));\n",
       "  --sklearn-color-icon: #696969;\n",
       "\n",
       "  @media (prefers-color-scheme: dark) {\n",
       "    /* Redefinition of color scheme for dark theme */\n",
       "    --sklearn-color-text-on-default-background: var(--sg-text-color, var(--theme-code-foreground, var(--jp-content-font-color1, white)));\n",
       "    --sklearn-color-background: var(--sg-background-color, var(--theme-background, var(--jp-layout-color0, #111)));\n",
       "    --sklearn-color-border-box: var(--sg-text-color, var(--theme-code-foreground, var(--jp-content-font-color1, white)));\n",
       "    --sklearn-color-icon: #878787;\n",
       "  }\n",
       "}\n",
       "\n",
       "#sk-container-id-3 {\n",
       "  color: var(--sklearn-color-text);\n",
       "}\n",
       "\n",
       "#sk-container-id-3 pre {\n",
       "  padding: 0;\n",
       "}\n",
       "\n",
       "#sk-container-id-3 input.sk-hidden--visually {\n",
       "  border: 0;\n",
       "  clip: rect(1px 1px 1px 1px);\n",
       "  clip: rect(1px, 1px, 1px, 1px);\n",
       "  height: 1px;\n",
       "  margin: -1px;\n",
       "  overflow: hidden;\n",
       "  padding: 0;\n",
       "  position: absolute;\n",
       "  width: 1px;\n",
       "}\n",
       "\n",
       "#sk-container-id-3 div.sk-dashed-wrapped {\n",
       "  border: 1px dashed var(--sklearn-color-line);\n",
       "  margin: 0 0.4em 0.5em 0.4em;\n",
       "  box-sizing: border-box;\n",
       "  padding-bottom: 0.4em;\n",
       "  background-color: var(--sklearn-color-background);\n",
       "}\n",
       "\n",
       "#sk-container-id-3 div.sk-container {\n",
       "  /* jupyter's `normalize.less` sets `[hidden] { display: none; }`\n",
       "     but bootstrap.min.css set `[hidden] { display: none !important; }`\n",
       "     so we also need the `!important` here to be able to override the\n",
       "     default hidden behavior on the sphinx rendered scikit-learn.org.\n",
       "     See: https://github.com/scikit-learn/scikit-learn/issues/21755 */\n",
       "  display: inline-block !important;\n",
       "  position: relative;\n",
       "}\n",
       "\n",
       "#sk-container-id-3 div.sk-text-repr-fallback {\n",
       "  display: none;\n",
       "}\n",
       "\n",
       "div.sk-parallel-item,\n",
       "div.sk-serial,\n",
       "div.sk-item {\n",
       "  /* draw centered vertical line to link estimators */\n",
       "  background-image: linear-gradient(var(--sklearn-color-text-on-default-background), var(--sklearn-color-text-on-default-background));\n",
       "  background-size: 2px 100%;\n",
       "  background-repeat: no-repeat;\n",
       "  background-position: center center;\n",
       "}\n",
       "\n",
       "/* Parallel-specific style estimator block */\n",
       "\n",
       "#sk-container-id-3 div.sk-parallel-item::after {\n",
       "  content: \"\";\n",
       "  width: 100%;\n",
       "  border-bottom: 2px solid var(--sklearn-color-text-on-default-background);\n",
       "  flex-grow: 1;\n",
       "}\n",
       "\n",
       "#sk-container-id-3 div.sk-parallel {\n",
       "  display: flex;\n",
       "  align-items: stretch;\n",
       "  justify-content: center;\n",
       "  background-color: var(--sklearn-color-background);\n",
       "  position: relative;\n",
       "}\n",
       "\n",
       "#sk-container-id-3 div.sk-parallel-item {\n",
       "  display: flex;\n",
       "  flex-direction: column;\n",
       "}\n",
       "\n",
       "#sk-container-id-3 div.sk-parallel-item:first-child::after {\n",
       "  align-self: flex-end;\n",
       "  width: 50%;\n",
       "}\n",
       "\n",
       "#sk-container-id-3 div.sk-parallel-item:last-child::after {\n",
       "  align-self: flex-start;\n",
       "  width: 50%;\n",
       "}\n",
       "\n",
       "#sk-container-id-3 div.sk-parallel-item:only-child::after {\n",
       "  width: 0;\n",
       "}\n",
       "\n",
       "/* Serial-specific style estimator block */\n",
       "\n",
       "#sk-container-id-3 div.sk-serial {\n",
       "  display: flex;\n",
       "  flex-direction: column;\n",
       "  align-items: center;\n",
       "  background-color: var(--sklearn-color-background);\n",
       "  padding-right: 1em;\n",
       "  padding-left: 1em;\n",
       "}\n",
       "\n",
       "\n",
       "/* Toggleable style: style used for estimator/Pipeline/ColumnTransformer box that is\n",
       "clickable and can be expanded/collapsed.\n",
       "- Pipeline and ColumnTransformer use this feature and define the default style\n",
       "- Estimators will overwrite some part of the style using the `sk-estimator` class\n",
       "*/\n",
       "\n",
       "/* Pipeline and ColumnTransformer style (default) */\n",
       "\n",
       "#sk-container-id-3 div.sk-toggleable {\n",
       "  /* Default theme specific background. It is overwritten whether we have a\n",
       "  specific estimator or a Pipeline/ColumnTransformer */\n",
       "  background-color: var(--sklearn-color-background);\n",
       "}\n",
       "\n",
       "/* Toggleable label */\n",
       "#sk-container-id-3 label.sk-toggleable__label {\n",
       "  cursor: pointer;\n",
       "  display: block;\n",
       "  width: 100%;\n",
       "  margin-bottom: 0;\n",
       "  padding: 0.5em;\n",
       "  box-sizing: border-box;\n",
       "  text-align: center;\n",
       "}\n",
       "\n",
       "#sk-container-id-3 label.sk-toggleable__label-arrow:before {\n",
       "  /* Arrow on the left of the label */\n",
       "  content: \"▸\";\n",
       "  float: left;\n",
       "  margin-right: 0.25em;\n",
       "  color: var(--sklearn-color-icon);\n",
       "}\n",
       "\n",
       "#sk-container-id-3 label.sk-toggleable__label-arrow:hover:before {\n",
       "  color: var(--sklearn-color-text);\n",
       "}\n",
       "\n",
       "/* Toggleable content - dropdown */\n",
       "\n",
       "#sk-container-id-3 div.sk-toggleable__content {\n",
       "  max-height: 0;\n",
       "  max-width: 0;\n",
       "  overflow: hidden;\n",
       "  text-align: left;\n",
       "  /* unfitted */\n",
       "  background-color: var(--sklearn-color-unfitted-level-0);\n",
       "}\n",
       "\n",
       "#sk-container-id-3 div.sk-toggleable__content.fitted {\n",
       "  /* fitted */\n",
       "  background-color: var(--sklearn-color-fitted-level-0);\n",
       "}\n",
       "\n",
       "#sk-container-id-3 div.sk-toggleable__content pre {\n",
       "  margin: 0.2em;\n",
       "  border-radius: 0.25em;\n",
       "  color: var(--sklearn-color-text);\n",
       "  /* unfitted */\n",
       "  background-color: var(--sklearn-color-unfitted-level-0);\n",
       "}\n",
       "\n",
       "#sk-container-id-3 div.sk-toggleable__content.fitted pre {\n",
       "  /* unfitted */\n",
       "  background-color: var(--sklearn-color-fitted-level-0);\n",
       "}\n",
       "\n",
       "#sk-container-id-3 input.sk-toggleable__control:checked~div.sk-toggleable__content {\n",
       "  /* Expand drop-down */\n",
       "  max-height: 200px;\n",
       "  max-width: 100%;\n",
       "  overflow: auto;\n",
       "}\n",
       "\n",
       "#sk-container-id-3 input.sk-toggleable__control:checked~label.sk-toggleable__label-arrow:before {\n",
       "  content: \"▾\";\n",
       "}\n",
       "\n",
       "/* Pipeline/ColumnTransformer-specific style */\n",
       "\n",
       "#sk-container-id-3 div.sk-label input.sk-toggleable__control:checked~label.sk-toggleable__label {\n",
       "  color: var(--sklearn-color-text);\n",
       "  background-color: var(--sklearn-color-unfitted-level-2);\n",
       "}\n",
       "\n",
       "#sk-container-id-3 div.sk-label.fitted input.sk-toggleable__control:checked~label.sk-toggleable__label {\n",
       "  background-color: var(--sklearn-color-fitted-level-2);\n",
       "}\n",
       "\n",
       "/* Estimator-specific style */\n",
       "\n",
       "/* Colorize estimator box */\n",
       "#sk-container-id-3 div.sk-estimator input.sk-toggleable__control:checked~label.sk-toggleable__label {\n",
       "  /* unfitted */\n",
       "  background-color: var(--sklearn-color-unfitted-level-2);\n",
       "}\n",
       "\n",
       "#sk-container-id-3 div.sk-estimator.fitted input.sk-toggleable__control:checked~label.sk-toggleable__label {\n",
       "  /* fitted */\n",
       "  background-color: var(--sklearn-color-fitted-level-2);\n",
       "}\n",
       "\n",
       "#sk-container-id-3 div.sk-label label.sk-toggleable__label,\n",
       "#sk-container-id-3 div.sk-label label {\n",
       "  /* The background is the default theme color */\n",
       "  color: var(--sklearn-color-text-on-default-background);\n",
       "}\n",
       "\n",
       "/* On hover, darken the color of the background */\n",
       "#sk-container-id-3 div.sk-label:hover label.sk-toggleable__label {\n",
       "  color: var(--sklearn-color-text);\n",
       "  background-color: var(--sklearn-color-unfitted-level-2);\n",
       "}\n",
       "\n",
       "/* Label box, darken color on hover, fitted */\n",
       "#sk-container-id-3 div.sk-label.fitted:hover label.sk-toggleable__label.fitted {\n",
       "  color: var(--sklearn-color-text);\n",
       "  background-color: var(--sklearn-color-fitted-level-2);\n",
       "}\n",
       "\n",
       "/* Estimator label */\n",
       "\n",
       "#sk-container-id-3 div.sk-label label {\n",
       "  font-family: monospace;\n",
       "  font-weight: bold;\n",
       "  display: inline-block;\n",
       "  line-height: 1.2em;\n",
       "}\n",
       "\n",
       "#sk-container-id-3 div.sk-label-container {\n",
       "  text-align: center;\n",
       "}\n",
       "\n",
       "/* Estimator-specific */\n",
       "#sk-container-id-3 div.sk-estimator {\n",
       "  font-family: monospace;\n",
       "  border: 1px dotted var(--sklearn-color-border-box);\n",
       "  border-radius: 0.25em;\n",
       "  box-sizing: border-box;\n",
       "  margin-bottom: 0.5em;\n",
       "  /* unfitted */\n",
       "  background-color: var(--sklearn-color-unfitted-level-0);\n",
       "}\n",
       "\n",
       "#sk-container-id-3 div.sk-estimator.fitted {\n",
       "  /* fitted */\n",
       "  background-color: var(--sklearn-color-fitted-level-0);\n",
       "}\n",
       "\n",
       "/* on hover */\n",
       "#sk-container-id-3 div.sk-estimator:hover {\n",
       "  /* unfitted */\n",
       "  background-color: var(--sklearn-color-unfitted-level-2);\n",
       "}\n",
       "\n",
       "#sk-container-id-3 div.sk-estimator.fitted:hover {\n",
       "  /* fitted */\n",
       "  background-color: var(--sklearn-color-fitted-level-2);\n",
       "}\n",
       "\n",
       "/* Specification for estimator info (e.g. \"i\" and \"?\") */\n",
       "\n",
       "/* Common style for \"i\" and \"?\" */\n",
       "\n",
       ".sk-estimator-doc-link,\n",
       "a:link.sk-estimator-doc-link,\n",
       "a:visited.sk-estimator-doc-link {\n",
       "  float: right;\n",
       "  font-size: smaller;\n",
       "  line-height: 1em;\n",
       "  font-family: monospace;\n",
       "  background-color: var(--sklearn-color-background);\n",
       "  border-radius: 1em;\n",
       "  height: 1em;\n",
       "  width: 1em;\n",
       "  text-decoration: none !important;\n",
       "  margin-left: 1ex;\n",
       "  /* unfitted */\n",
       "  border: var(--sklearn-color-unfitted-level-1) 1pt solid;\n",
       "  color: var(--sklearn-color-unfitted-level-1);\n",
       "}\n",
       "\n",
       ".sk-estimator-doc-link.fitted,\n",
       "a:link.sk-estimator-doc-link.fitted,\n",
       "a:visited.sk-estimator-doc-link.fitted {\n",
       "  /* fitted */\n",
       "  border: var(--sklearn-color-fitted-level-1) 1pt solid;\n",
       "  color: var(--sklearn-color-fitted-level-1);\n",
       "}\n",
       "\n",
       "/* On hover */\n",
       "div.sk-estimator:hover .sk-estimator-doc-link:hover,\n",
       ".sk-estimator-doc-link:hover,\n",
       "div.sk-label-container:hover .sk-estimator-doc-link:hover,\n",
       ".sk-estimator-doc-link:hover {\n",
       "  /* unfitted */\n",
       "  background-color: var(--sklearn-color-unfitted-level-3);\n",
       "  color: var(--sklearn-color-background);\n",
       "  text-decoration: none;\n",
       "}\n",
       "\n",
       "div.sk-estimator.fitted:hover .sk-estimator-doc-link.fitted:hover,\n",
       ".sk-estimator-doc-link.fitted:hover,\n",
       "div.sk-label-container:hover .sk-estimator-doc-link.fitted:hover,\n",
       ".sk-estimator-doc-link.fitted:hover {\n",
       "  /* fitted */\n",
       "  background-color: var(--sklearn-color-fitted-level-3);\n",
       "  color: var(--sklearn-color-background);\n",
       "  text-decoration: none;\n",
       "}\n",
       "\n",
       "/* Span, style for the box shown on hovering the info icon */\n",
       ".sk-estimator-doc-link span {\n",
       "  display: none;\n",
       "  z-index: 9999;\n",
       "  position: relative;\n",
       "  font-weight: normal;\n",
       "  right: .2ex;\n",
       "  padding: .5ex;\n",
       "  margin: .5ex;\n",
       "  width: min-content;\n",
       "  min-width: 20ex;\n",
       "  max-width: 50ex;\n",
       "  color: var(--sklearn-color-text);\n",
       "  box-shadow: 2pt 2pt 4pt #999;\n",
       "  /* unfitted */\n",
       "  background: var(--sklearn-color-unfitted-level-0);\n",
       "  border: .5pt solid var(--sklearn-color-unfitted-level-3);\n",
       "}\n",
       "\n",
       ".sk-estimator-doc-link.fitted span {\n",
       "  /* fitted */\n",
       "  background: var(--sklearn-color-fitted-level-0);\n",
       "  border: var(--sklearn-color-fitted-level-3);\n",
       "}\n",
       "\n",
       ".sk-estimator-doc-link:hover span {\n",
       "  display: block;\n",
       "}\n",
       "\n",
       "/* \"?\"-specific style due to the `<a>` HTML tag */\n",
       "\n",
       "#sk-container-id-3 a.estimator_doc_link {\n",
       "  float: right;\n",
       "  font-size: 1rem;\n",
       "  line-height: 1em;\n",
       "  font-family: monospace;\n",
       "  background-color: var(--sklearn-color-background);\n",
       "  border-radius: 1rem;\n",
       "  height: 1rem;\n",
       "  width: 1rem;\n",
       "  text-decoration: none;\n",
       "  /* unfitted */\n",
       "  color: var(--sklearn-color-unfitted-level-1);\n",
       "  border: var(--sklearn-color-unfitted-level-1) 1pt solid;\n",
       "}\n",
       "\n",
       "#sk-container-id-3 a.estimator_doc_link.fitted {\n",
       "  /* fitted */\n",
       "  border: var(--sklearn-color-fitted-level-1) 1pt solid;\n",
       "  color: var(--sklearn-color-fitted-level-1);\n",
       "}\n",
       "\n",
       "/* On hover */\n",
       "#sk-container-id-3 a.estimator_doc_link:hover {\n",
       "  /* unfitted */\n",
       "  background-color: var(--sklearn-color-unfitted-level-3);\n",
       "  color: var(--sklearn-color-background);\n",
       "  text-decoration: none;\n",
       "}\n",
       "\n",
       "#sk-container-id-3 a.estimator_doc_link.fitted:hover {\n",
       "  /* fitted */\n",
       "  background-color: var(--sklearn-color-fitted-level-3);\n",
       "}\n",
       "</style><div id=\"sk-container-id-3\" class=\"sk-top-container\"><div class=\"sk-text-repr-fallback\"><pre>LinearRegression()</pre><b>In a Jupyter environment, please rerun this cell to show the HTML representation or trust the notebook. <br />On GitHub, the HTML representation is unable to render, please try loading this page with nbviewer.org.</b></div><div class=\"sk-container\" hidden><div class=\"sk-item\"><div class=\"sk-estimator fitted sk-toggleable\"><input class=\"sk-toggleable__control sk-hidden--visually\" id=\"sk-estimator-id-3\" type=\"checkbox\" checked><label for=\"sk-estimator-id-3\" class=\"sk-toggleable__label fitted sk-toggleable__label-arrow fitted\">&nbsp;&nbsp;LinearRegression<a class=\"sk-estimator-doc-link fitted\" rel=\"noreferrer\" target=\"_blank\" href=\"https://scikit-learn.org/1.5/modules/generated/sklearn.linear_model.LinearRegression.html\">?<span>Documentation for LinearRegression</span></a><span class=\"sk-estimator-doc-link fitted\">i<span>Fitted</span></span></label><div class=\"sk-toggleable__content fitted\"><pre>LinearRegression()</pre></div> </div></div></div></div>"
      ],
      "text/plain": [
       "LinearRegression()"
      ]
     },
     "execution_count": 269,
     "metadata": {},
     "output_type": "execute_result"
    }
   ],
   "source": [
    "# Train the model using the dataset\n",
    "model.fit(X_train_scaled, y_train_scaled)"
   ]
  },
  {
   "cell_type": "code",
   "execution_count": 271,
   "id": "bfd8136c-b900-47c2-b81b-db37919e9ccd",
   "metadata": {},
   "outputs": [],
   "source": [
    "from sklearn.preprocessing import StandardScaler\n",
    "\n",
    "y_train_df = pd.DataFrame(y_train) #converting to data frame from series\n",
    "scaler = StandardScaler()\n",
    "scaler.fit(y_train_df)\n",
    "y_train_scaled = scaler.transform(y_train_df)"
   ]
  },
  {
   "cell_type": "code",
   "execution_count": 273,
   "id": "3c03a1c3-6438-4302-9f44-e304d03ed9ee",
   "metadata": {},
   "outputs": [],
   "source": [
    "# Scaling using StandardScaler\n",
    "from sklearn.preprocessing import StandardScaler\n",
    "\n",
    "scaler = StandardScaler()\n",
    "scaler.fit(X_test)\n",
    "X_test_scaled = scaler.transform(X_test)"
   ]
  },
  {
   "cell_type": "code",
   "execution_count": 275,
   "id": "e49ff514-95c6-4296-b909-ca5925a0a72e",
   "metadata": {},
   "outputs": [],
   "source": [
    "from sklearn.preprocessing import StandardScaler\n",
    "\n",
    "y_test_df = pd.DataFrame(y_test) #converting to data frame from series\n",
    "scaler = StandardScaler()\n",
    "scaler.fit(y_test_df)\n",
    "y_test_scaled = scaler.transform(y_test_df)"
   ]
  },
  {
   "cell_type": "code",
   "execution_count": 277,
   "id": "10ad4da6-7cbf-420f-acac-7cc281735c45",
   "metadata": {},
   "outputs": [],
   "source": [
    "# Predict values using the model\n",
    "Y_pred = model.predict(X_test_scaled)"
   ]
  },
  {
   "cell_type": "markdown",
   "id": "de289916-1f67-4442-9d59-edd359a9b123",
   "metadata": {},
   "source": [
    "# DecisionTreeRegressor"
   ]
  },
  {
   "cell_type": "markdown",
   "id": "5466db78-1172-4489-9ffa-077366187580",
   "metadata": {},
   "source": [
    "A Decision Tree splits the dataset into branches based on feature values, using a tree-like structure.\n",
    "Decision Trees can capture non-linear relationships better than Linear Regression"
   ]
  },
  {
   "cell_type": "markdown",
   "id": "e7a05023-7dea-426e-8f63-98da1583ab18",
   "metadata": {},
   "source": [
    "# 3.Model Evaluation and Comparison:\n",
    "Evaluate the performance of each algorithm using the following metrics:\n",
    "Mean Squared Error (MSE)\n",
    "Mean Absolute Error (MAE)\n",
    "R-squared Score (R²)\n",
    "Compare the results of all models and identify:\n",
    "The best-performing algorithm with justification.\n",
    "The worst-performing algorithm with reasoning."
   ]
  },
  {
   "cell_type": "code",
   "execution_count": 279,
   "id": "e858bffd-d2df-4594-ac92-87f7df979816",
   "metadata": {},
   "outputs": [],
   "source": [
    "# multiple ML models\n",
    "# Initialize models\n",
    "models = {\n",
    "    \"LinearRegression\":LinearRegression(),\n",
    "    \"DecisionTreeRegressor\": DecisionTreeRegressor()\n",
    "}"
   ]
  },
  {
   "cell_type": "code",
   "execution_count": 281,
   "id": "a14904f9-382f-4c7f-970f-5ca09308dc02",
   "metadata": {},
   "outputs": [],
   "source": [
    "# Train and evaluate models\n",
    "model_results = {}\n",
    "\n",
    "for name, model in models.items():\n",
    "    model.fit(X_train_scaled, y_train_scaled)\n",
    "    predictions = model.predict(X_test_scaled)\n",
    "    mae = mean_absolute_error(y_test_scaled, predictions)\n",
    "    mse = mean_squared_error(y_test_scaled, predictions)\n",
    "    rmse = mean_squared_error(y_test_scaled, predictions, squared=False)\n",
    "    r2 = r2_score(y_test_scaled, predictions)\n",
    "    model_results[name] = {\"MAE\": mae, \"MSE\": mse, \"RMSE\": rmse, \"R2 Score\": r2}"
   ]
  },
  {
   "cell_type": "code",
   "execution_count": 283,
   "id": "6e3a1bd6-810d-4db8-8e18-c67e30a11908",
   "metadata": {},
   "outputs": [
    {
     "name": "stdout",
     "output_type": "stream",
     "text": [
      "\n",
      "LinearRegression Performance:\n",
      "MAE: 0.4647\n",
      "MSE: 0.4103\n",
      "RMSE: 0.6405\n",
      "R2 Score: 0.5897\n",
      "\n",
      "DecisionTreeRegressor Performance:\n",
      "MAE: 0.6348\n",
      "MSE: 0.8777\n",
      "RMSE: 0.9369\n",
      "R2 Score: 0.1223\n"
     ]
    }
   ],
   "source": [
    "# Display model performance\n",
    "for name, metrics in model_results.items():\n",
    "    print(f\"\\n{name} Performance:\")\n",
    "    for metric, value in metrics.items():\n",
    "        print(f\"{metric}: {value:.4f}\")"
   ]
  },
  {
   "cell_type": "code",
   "execution_count": 285,
   "id": "8a778bd0-ddf1-4187-a145-f0b6674abc3a",
   "metadata": {},
   "outputs": [
    {
     "name": "stdout",
     "output_type": "stream",
     "text": [
      "Cross-Validation R² Scores: [0.60970239 0.60411343 0.6354319  0.60076148 0.60727452]\n",
      "Mean R² Score: 0.611456745810643\n",
      "Cross-Validation MSE Scores: [0.40291348 0.39338403 0.36369802 0.4023362  0.38012594]\n",
      "Mean MSE Score: 0.38849153604026404\n"
     ]
    }
   ],
   "source": [
    "# Cross validation\n",
    "from sklearn.model_selection import cross_val_score, KFold\n",
    "\n",
    "# Initialize Linear Regression model\n",
    "model2 = LinearRegression()\n",
    "\n",
    "# K-Fold Cross Validation\n",
    "kf = KFold(n_splits=5, shuffle=True, random_state=42)  # 5 folds\n",
    "\n",
    "# Perform cross-validation and get scores (default scoring is R^2)\n",
    "scores = cross_val_score(model2, X_train_scaled, y_train_scaled, cv=kf, scoring='r2')\n",
    "\n",
    "print(\"Cross-Validation R² Scores:\", scores)\n",
    "print(\"Mean R² Score:\", np.mean(scores))\n",
    "\n",
    "# If Mean Squared Error (MSE) as the evaluation metric\n",
    "mse_scores = -cross_val_score(model2, X_train_scaled, y_train_scaled, cv=kf, scoring='neg_mean_squared_error')\n",
    "print(\"Cross-Validation MSE Scores:\", mse_scores)\n",
    "print(\"Mean MSE Score:\", np.mean(mse_scores))"
   ]
  },
  {
   "cell_type": "code",
   "execution_count": 287,
   "id": "55511a47-2517-495d-9346-774fe6299986",
   "metadata": {},
   "outputs": [],
   "source": [
    "# Train and evaluate models\n",
    "model_results = {}\n",
    "\n",
    "for name, model in models.items():\n",
    "    model.fit(X_train_scaled, y_train_scaled)\n",
    "    predictions = model.predict(X_test_scaled)\n",
    "    mae = mean_absolute_error(y_test_scaled, predictions)\n",
    "    mse = mean_squared_error(y_test_scaled, predictions)\n",
    "    rmse = mean_squared_error(y_test_scaled, predictions, squared=False)\n",
    "    r2 = r2_score(y_test_scaled, predictions)\n",
    "    model_results[name] = {\"MAE\": mae, \"MSE\": mse, \"RMSE\": rmse, \"R2 Score\": r2}"
   ]
  },
  {
   "cell_type": "code",
   "execution_count": 289,
   "id": "6c56bc13-3d9f-4163-aa89-6aebc8c0f4d3",
   "metadata": {},
   "outputs": [
    {
     "name": "stdout",
     "output_type": "stream",
     "text": [
      "\n",
      "LinearRegression Performance:\n",
      "MAE: 0.4647\n",
      "MSE: 0.4103\n",
      "RMSE: 0.6405\n",
      "R2 Score: 0.5897\n",
      "\n",
      "DecisionTreeRegressor Performance:\n",
      "MAE: 0.6409\n",
      "MSE: 0.8982\n",
      "RMSE: 0.9477\n",
      "R2 Score: 0.1018\n"
     ]
    }
   ],
   "source": [
    "# Display model performance\n",
    "for name, metrics in model_results.items():\n",
    "    print(f\"\\n{name} Performance:\")\n",
    "    for metric, value in metrics.items():\n",
    "        print(f\"{metric}: {value:.4f}\")"
   ]
  },
  {
   "cell_type": "code",
   "execution_count": 291,
   "id": "ce29a3d9-e8ed-41f2-a90f-90d9927a354a",
   "metadata": {},
   "outputs": [
    {
     "name": "stdout",
     "output_type": "stream",
     "text": [
      "Best Model: LinearRegression {'MAE': 0.46470419537543106, 'MSE': 0.4102831793541646, 'RMSE': 0.640533511499722, 'R2 Score': 0.5897168206458354}\n",
      "Worst Model: DecisionTreeRegressor {'MAE': 0.6409145529519706, 'MSE': 0.8982222894195563, 'RMSE': 0.9477458991837191, 'R2 Score': 0.10177771058044371}\n"
     ]
    }
   ],
   "source": [
    "# Identify best and worst models\n",
    "best_model = max(model_results, key=lambda x: model_results[x][\"R2 Score\"])\n",
    "worst_model = min(model_results, key=lambda x: model_results[x][\"R2 Score\"])\n",
    "\n",
    "print(\"Best Model:\", best_model, model_results[best_model])\n",
    "print(\"Worst Model:\", worst_model, model_results[worst_model])"
   ]
  },
  {
   "cell_type": "markdown",
   "id": "9a3f4be6-d270-4147-8cbc-e6ed9ba5fd76",
   "metadata": {},
   "source": [
    "The dataset trains and evaluates Linear Regression and Decision Tree Regressor  models using metrics like MSE, MAE, RMSE, and R².\n",
    "The best model based on the highest R² Score and the worst model based on the lowest R² Score."
   ]
  },
  {
   "cell_type": "markdown",
   "id": "9b83a0b3-55cf-4230-a547-4b6d3ef9edb5",
   "metadata": {},
   "source": [
    "Linear Regression performed best because it provides the lowest error metrics (MSE, RMSE, MAE) and the highest R² score, \n",
    "indicating that it explains a significant portion of the variance in the target variable.\n",
    "Since the California housing dataset has a continuous target variable and linear relationships between some features and the target, Linear Regression is a suitable choice."
   ]
  },
  {
   "cell_type": "markdown",
   "id": "9276d727-a0a0-4fe0-b7a9-12cf332a68db",
   "metadata": {},
   "source": [
    "Decision Tree Regressor performed the worst due to overfitting. \n",
    "Decision trees tend to capture noise and work well for small datasets but fail on larger datasets where relationships are more complex. \n",
    "The high error values suggest poor generalization."
   ]
  },
  {
   "cell_type": "markdown",
   "id": "98c90164-bd36-424a-83cd-fa8dbf447df7",
   "metadata": {},
   "source": [
    "--The End--"
   ]
  }
 ],
 "metadata": {
  "kernelspec": {
   "display_name": "Python 3 (ipykernel)",
   "language": "python",
   "name": "python3"
  },
  "language_info": {
   "codemirror_mode": {
    "name": "ipython",
    "version": 3
   },
   "file_extension": ".py",
   "mimetype": "text/x-python",
   "name": "python",
   "nbconvert_exporter": "python",
   "pygments_lexer": "ipython3",
   "version": "3.12.7"
  }
 },
 "nbformat": 4,
 "nbformat_minor": 5
}
